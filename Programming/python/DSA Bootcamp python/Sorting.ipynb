{
 "cells": [
  {
   "cell_type": "markdown",
   "metadata": {},
   "source": [
    "# Cyclic Sort"
   ]
  },
  {
   "cell_type": "code",
   "execution_count": 32,
   "metadata": {},
   "outputs": [
    {
     "name": "stdout",
     "output_type": "stream",
     "text": [
      "[1, 2, 3, 4, 5]\n"
     ]
    }
   ],
   "source": [
    "def cyclicSort(arr):\n",
    "    i = 0\n",
    "    while (i < len(arr)):\n",
    "        correct = arr[i] - 1\n",
    "        if (arr[i] != arr[correct]):\n",
    "            swap(arr, i, correct)\n",
    "        else:\n",
    "            i+=1\n",
    "  \n",
    "\n",
    "def swap(arr, first, second):\n",
    "    temp = arr[first]\n",
    "    arr[first] = arr[second]\n",
    "    arr[second] = temp\n",
    "\n",
    "arr = [5, 3, 4, 1, 2]\n",
    "cyclicSort(arr)\n",
    "print(arr)"
   ]
  },
  {
   "cell_type": "markdown",
   "metadata": {},
   "source": [
    "# Sorting Algorithms"
   ]
  },
  {
   "cell_type": "code",
   "execution_count": 1,
   "metadata": {},
   "outputs": [
    {
     "name": "stdout",
     "output_type": "stream",
     "text": [
      "[1, 2, 3, 4, 5]\n"
     ]
    }
   ],
   "source": [
    "def insertion(arr):\n",
    "    for i in range(len(arr)-1):\n",
    "            for j in range(i+1,0,-1):\n",
    "                if (arr[j] < arr[j-1]):\n",
    "                    swap(arr, j, j-1)\n",
    "                else:\n",
    "                    break\n",
    "\n",
    "def selection(arr):\n",
    "    for i in range(len(arr)):\n",
    "        # find the max item in the remaining array and swap with correct index\n",
    "        last = len(arr) - i - 1\n",
    "        maxIndex = getMaxIndex(arr, 0, last)\n",
    "        swap(arr, maxIndex, last)\n",
    "\n",
    "def getMaxIndex(arr, start,  end):\n",
    "    max = start\n",
    "    for i in range(start, end+1): \n",
    "        if (arr[max] < arr[i]):\n",
    "            max = i\n",
    "    return max\n",
    "\n",
    "def bubble(arr):\n",
    "    # swapped\n",
    "    # run the steps n-1 times\n",
    "    for index in range(len(arr)):\n",
    "        swapped = False\n",
    "        # for each step, max item will come at the last respective index\n",
    "        # for (int j = 1; j < arr.length - i; j++) {\n",
    "        for j in range(1, len(arr)-index):\n",
    "            # swap if the item is smaller than the previous item\n",
    "            if (arr[j] < arr[j-1]):\n",
    "                # swap\n",
    "                temp = arr[j]\n",
    "                arr[j] = arr[j-1]\n",
    "                arr[j-1] = temp\n",
    "                swapped = True\n",
    "\n",
    "        # if you did not swap for a particular value of i, it means the array is sorted hence stop the program\n",
    "        if (not swapped):\n",
    "            #  \"!false = true\"\n",
    "            break\n",
    "        \n",
    "\n",
    "def swap(arr, first, second):\n",
    "    temp = arr[first]\n",
    "    arr[first] = arr[second]\n",
    "    arr[second] = temp\n",
    "    \n",
    "arr = [5, 3, 4, 1, 2]\n",
    "# insertion(arr)\n",
    "# selection(arr)\n",
    "bubble(arr)\n",
    "print(arr)\n"
   ]
  },
  {
   "cell_type": "code",
   "execution_count": 14,
   "metadata": {},
   "outputs": [
    {
     "name": "stdout",
     "output_type": "stream",
     "text": [
      "[1, 2, 3, 4, 5, 6, 7, 8, 9, 10]\n"
     ]
    }
   ],
   "source": [
    "# Cycle Sort\n",
    "def sort1(arr):\n",
    "    i = 0\n",
    "    while (i < len(arr)):\n",
    "        correct = arr[i] - 1\n",
    "        if (arr[i] != arr[correct]):\n",
    "            swap1(arr, i, correct)\n",
    "        else:\n",
    "            i+=1\n",
    "\n",
    "def swap1( arr, first, second):\n",
    "    temp = arr[first]\n",
    "    arr[first] = arr[second]\n",
    "    arr[second] = temp\n",
    "\n",
    "\n",
    "arr = [5, 3, 2, 4, 1, 8, 7, 6, 9, 10]\n",
    "sort1(arr)\n",
    "print(arr)\n"
   ]
  },
  {
   "cell_type": "markdown",
   "metadata": {},
   "source": [
    "Missing Number"
   ]
  },
  {
   "cell_type": "code",
   "execution_count": 17,
   "metadata": {},
   "outputs": [
    {
     "name": "stdout",
     "output_type": "stream",
     "text": [
      "3\n"
     ]
    }
   ],
   "source": [
    "def missingNumber(arr):\n",
    "    i = 0\n",
    "    while (i < len(arr)):\n",
    "        correct = arr[i]\n",
    "        if (arr[i] < len(arr) and arr[i] != arr[correct]):\n",
    "            swap(arr, i, correct)\n",
    "        else:\n",
    "            i+=1\n",
    "\n",
    "\n",
    "    # search for first missing number\n",
    "    for index in range(len(arr)):\n",
    "        if (arr[index] != index):\n",
    "            return index\n",
    "\n",
    "\n",
    "    #  case 2\n",
    "    return len(arr)\n",
    "\n",
    "\n",
    "def swap(arr,  first,  second):\n",
    "    temp = arr[first]\n",
    "    arr[first] = arr[second]\n",
    "    arr[second] = temp\n",
    "\n",
    "\n",
    "arr = [4, 0, 2, 1]\n",
    "\n",
    "print(missingNumber(arr))\n"
   ]
  },
  {
   "cell_type": "markdown",
   "metadata": {},
   "source": [
    "Missing Positive Number"
   ]
  },
  {
   "cell_type": "code",
   "execution_count": 2,
   "metadata": {},
   "outputs": [
    {
     "name": "stdout",
     "output_type": "stream",
     "text": [
      "5\n"
     ]
    }
   ],
   "source": [
    "def firstMissingPositive(arr):\n",
    "    i = 0\n",
    "    while (i < len(arr)):\n",
    "        correct = arr[i] - 1\n",
    "        if (arr[i]>0 and arr[i] < len(arr) and arr[i] != arr[correct]):\n",
    "            swap(arr, i, correct)\n",
    "        else:\n",
    "            i += 1\n",
    "\n",
    "    # search for first missing number\n",
    "    for index in range(len(arr)):\n",
    "        if (arr[index] != index + 1):\n",
    "            return index + 1\n",
    "\n",
    "    #  case 2\n",
    "    return len(arr) + 1 \n",
    "\n",
    "\n",
    "def swap(arr,  first,  second):\n",
    "    temp = arr[first]\n",
    "    arr[first] = arr[second]\n",
    "    arr[second] = temp\n",
    "\n",
    "\n",
    "arr = [1, 2, 3, 4]  # [5, 4, 2, 1]\n",
    "\n",
    "print(firstMissingPositive(arr))\n"
   ]
  },
  {
   "cell_type": "markdown",
   "metadata": {},
   "source": [
    "Find All Missing Values"
   ]
  },
  {
   "cell_type": "code",
   "execution_count": 13,
   "metadata": {},
   "outputs": [
    {
     "name": "stdout",
     "output_type": "stream",
     "text": [
      "[3, 6]\n"
     ]
    }
   ],
   "source": [
    "def findAllMissing(nums)->list:\n",
    "    \n",
    "    i = 0\n",
    "    while (i < len(nums)):\n",
    "        correct = nums[i] - 1\n",
    "        if (nums[i] != nums[correct]):\n",
    "            swap(nums, i, correct)\n",
    "        else:\n",
    "            i+=1\n",
    "       \n",
    "    \n",
    "\n",
    "    # just find missing numbers\n",
    "    ans = list()\n",
    "    for index in range(0, len(nums)):\n",
    "        if (nums[index] != index+1):\n",
    "            ans.append(index + 1)\n",
    "\n",
    "    return ans\n",
    "\n",
    "\n",
    "def swap(arr, first, second):\n",
    "    temp = arr[first]\n",
    "    arr[first] = arr[second]\n",
    "    arr[second] = temp\n",
    "\n",
    "arr = [5,5, 4, 4, 2, 1]\n",
    "\n",
    "print(findAllMissing(arr))\n"
   ]
  },
  {
   "cell_type": "markdown",
   "metadata": {},
   "source": [
    "Find Duplicate"
   ]
  },
  {
   "cell_type": "code",
   "execution_count": 22,
   "metadata": {},
   "outputs": [
    {
     "name": "stdout",
     "output_type": "stream",
     "text": [
      "2\n"
     ]
    }
   ],
   "source": [
    "def findDuplicate(arr):\n",
    "    i = 0\n",
    "    while (i < len(arr)):\n",
    "        if (arr[i] != i + 1):\n",
    "            correct = arr[i] - 1\n",
    "            if (arr[i] != arr[correct]):\n",
    "                swap(arr, i, correct)\n",
    "            else:\n",
    "                return arr[i]\n",
    "        else:\n",
    "            i+=1\n",
    "    \n",
    "    return -1\n",
    "\n",
    "def swap(arr, first, second):\n",
    "    temp = arr[first]\n",
    "    arr[first] = arr[second]\n",
    "    arr[second] = temp\n",
    "\n",
    "\n",
    "arr = [4, 2, 2, 1]\n",
    "\n",
    "print(findDuplicate(arr))\n"
   ]
  },
  {
   "cell_type": "markdown",
   "metadata": {},
   "source": [
    "Find All Duplicates "
   ]
  },
  {
   "cell_type": "code",
   "execution_count": 11,
   "metadata": {},
   "outputs": [
    {
     "name": "stdout",
     "output_type": "stream",
     "text": [
      "[4, 5]\n"
     ]
    }
   ],
   "source": [
    "def findAllDuplicates(arr)->list:\n",
    "    i = 0\n",
    "    while (i < len(arr)):\n",
    "        correct = arr[i] - 1\n",
    "        if (arr[i] != arr[correct]):\n",
    "            swap(arr, i, correct)\n",
    "        else:\n",
    "            i+=1\n",
    "\n",
    "    ans = list()\n",
    "    for index in range(0, len(arr)):\n",
    "        if (arr[index] != index+1):\n",
    "            ans.append(arr[index])\n",
    "    \n",
    "    return ans\n",
    "\n",
    "\n",
    "def swap(arr, first, second):\n",
    "    temp = arr[first]\n",
    "    arr[first] = arr[second]\n",
    "    arr[second] = temp\n",
    "\n",
    "\n",
    "arr = [5, 5, 4, 4, 2, 1]\n",
    "\n",
    "print(findAllDuplicates(arr))\n"
   ]
  },
  {
   "cell_type": "markdown",
   "metadata": {},
   "source": [
    "Set Mismatch"
   ]
  },
  {
   "cell_type": "code",
   "execution_count": 15,
   "metadata": {},
   "outputs": [
    {
     "name": "stdout",
     "output_type": "stream",
     "text": [
      "[2, 3]\n"
     ]
    }
   ],
   "source": [
    "def findErrorNums(arr)->list:\n",
    "    i = 0\n",
    "    while (i < len(arr)):\n",
    "        correct = arr[i] - 1\n",
    "        if (arr[i] != arr[correct]):\n",
    "            swap(arr, i, correct)\n",
    "        else:\n",
    "            i+=1\n",
    "\n",
    "\n",
    "    # search for first missing number\n",
    "    for index in range(0, len(arr)):\n",
    "        if (arr[index] != index + 1):\n",
    "            return [arr[index], index+1]\n",
    "\n",
    "    return [-1,-1]\n",
    "\n",
    "\n",
    "def swap(arr, first, second):\n",
    "    temp = arr[first]\n",
    "    arr[first] = arr[second]\n",
    "    arr[second] = temp\n",
    "\n",
    "nums = [1,2,2,4]\n",
    "print(findErrorNums(nums))\n"
   ]
  }
 ],
 "metadata": {
  "kernelspec": {
   "display_name": "Python 3.11.0 64-bit",
   "language": "python",
   "name": "python3"
  },
  "language_info": {
   "codemirror_mode": {
    "name": "ipython",
    "version": 3
   },
   "file_extension": ".py",
   "mimetype": "text/x-python",
   "name": "python",
   "nbconvert_exporter": "python",
   "pygments_lexer": "ipython3",
   "version": "3.11.0 (v3.11.0:deaf509e8f, Oct 24 2022, 14:43:23) [Clang 13.0.0 (clang-1300.0.29.30)]"
  },
  "orig_nbformat": 4,
  "vscode": {
   "interpreter": {
    "hash": "aee8b7b246df8f9039afb4144a1f6fd8d2ca17a180786b69acc140d282b71a49"
   }
  }
 },
 "nbformat": 4,
 "nbformat_minor": 2
}
