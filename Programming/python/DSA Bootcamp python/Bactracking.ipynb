{
 "cells": [
  {
   "cell_type": "code",
   "execution_count": 41,
   "metadata": {},
   "outputs": [
    {
     "name": "stdout",
     "output_type": "stream",
     "text": [
      "DDRR\n",
      "DDRURD\n",
      "DDRUURDD\n",
      "DRDR\n",
      "DRRD\n",
      "DRURDD\n",
      "RDDR\n",
      "RDRD\n",
      "RDLDRR\n",
      "RRDD\n",
      "RRDLDR\n",
      "RRDLLDRR\n"
     ]
    }
   ],
   "source": [
    "def allPath(p, maze,  r,  c,):\n",
    "    if(r == len(maze) - 1 & c == len(maze[0]) - 1):\n",
    "        print(p)\n",
    "        return\n",
    "    \n",
    "\n",
    "    if (not maze[r][c]):\n",
    "        return\n",
    "    \n",
    "\n",
    "    # i am considering this block in my path\n",
    "    maze[r][c] = False\n",
    "\n",
    "    if (r < len(maze) - 1):\n",
    "        allPath(p + 'D', maze, r + 1, c)\n",
    "    \n",
    "\n",
    "    if (c < len(maze[0]) - 1):\n",
    "        allPath(p + 'R', maze, r, c + 1)\n",
    "    \n",
    "\n",
    "    if (r > 0):\n",
    "        allPath(p + 'U', maze, r - 1, c)\n",
    "    \n",
    "\n",
    "    if (c > 0):\n",
    "        allPath(p + 'L', maze, r, c - 1)\n",
    "    \n",
    "\n",
    "    # this line is where the function will be over\n",
    "    # so before the function gets removed, also remove the changes that were made by that function\n",
    "    maze[r][c] = True\n",
    "\n",
    "\n",
    "board = [[True, True, True],\n",
    "         [True, True, True],\n",
    "         [True, True, True]]\n",
    "# path = list[len(board)][len(board[0])]\n",
    "allPath('', board, 0,0)\n"
   ]
  },
  {
   "cell_type": "code",
   "execution_count": 48,
   "metadata": {},
   "outputs": [
    {
     "name": "stdout",
     "output_type": "stream",
     "text": [
      "[3, 4, 5]\n",
      "[3, 4, 5]\n",
      "[3, 4, 5]\n",
      "DDRR\n",
      "\n",
      "[3, 5, 7]\n",
      "[3, 5, 7]\n",
      "[3, 5, 7]\n",
      "DDRURD\n",
      "\n",
      "[3, 6, 9]\n",
      "[3, 6, 9]\n",
      "[3, 6, 9]\n",
      "DDRUURDD\n",
      "\n",
      "[0, 4, 5]\n",
      "[0, 4, 5]\n",
      "[0, 4, 5]\n",
      "DRDR\n",
      "\n",
      "[0, 0, 5]\n",
      "[0, 0, 5]\n",
      "[0, 0, 5]\n",
      "DRRD\n",
      "\n",
      "[0, 4, 7]\n",
      "[0, 4, 7]\n",
      "[0, 4, 7]\n",
      "DRURDD\n",
      "\n",
      "[0, 4, 5]\n",
      "[0, 4, 5]\n",
      "[0, 4, 5]\n",
      "RDDR\n",
      "\n",
      "[0, 0, 5]\n",
      "[0, 0, 5]\n",
      "[0, 0, 5]\n",
      "RDRD\n",
      "\n",
      "[5, 6, 7]\n",
      "[5, 6, 7]\n",
      "[5, 6, 7]\n",
      "RDLDRR\n",
      "\n",
      "[0, 0, 5]\n",
      "[0, 0, 5]\n",
      "[0, 0, 5]\n",
      "RRDD\n",
      "\n",
      "[0, 6, 7]\n",
      "[0, 6, 7]\n",
      "[0, 6, 7]\n",
      "RRDLDR\n",
      "\n",
      "[7, 8, 9]\n",
      "[7, 8, 9]\n",
      "[7, 8, 9]\n",
      "RRDLLDRR\n",
      "\n"
     ]
    }
   ],
   "source": [
    "def allPathPrint(p, maze,  r,  c,path,step):\n",
    "    if(r == len(maze) - 1 & c == len(maze[0]) - 1):\n",
    "        path[r][c] = step\n",
    "        for arr in path:\n",
    "            print(arr)\n",
    "        print(p)\n",
    "        print()\n",
    "        return\n",
    "    \n",
    "\n",
    "    if (not maze[r][c]):\n",
    "        return\n",
    "    \n",
    "\n",
    "    # i am considering this block in my path\n",
    "    maze[r][c] = False\n",
    "    path[r][c] = step\n",
    "    if (r < len(maze) - 1):\n",
    "        allPathPrint(p + 'D', maze, r + 1, c, path, step + 1)\n",
    "    \n",
    "\n",
    "    if (c < len(maze[0]) - 1):\n",
    "        allPathPrint(p + 'R', maze, r, c + 1, path, step + 1)\n",
    "    \n",
    "\n",
    "    if (r > 0):\n",
    "        allPathPrint(p + 'U', maze, r - 1, c, path, step + 1)\n",
    "    \n",
    "\n",
    "    if (c > 0):\n",
    "        allPathPrint(p + 'L', maze, r, c - 1, path, step + 1)\n",
    "    \n",
    "\n",
    "    # this line is where the function will be over\n",
    "    # so before the function gets removed, also remove the changes that were made by that function\n",
    "    maze[r][c] = True\n",
    "    path[r][c] = 0\n",
    "\n",
    "\n",
    "board = [[True, True, True],\n",
    "         [True, True, True],\n",
    "         [True, True, True]]\n",
    "path = [[0]*len(board)]*len(board[0])\n",
    "# print(path)\n",
    "allPathPrint('', board, 0,0,path,1)\n"
   ]
  },
  {
   "cell_type": "code",
   "execution_count": null,
   "metadata": {},
   "outputs": [],
   "source": []
  },
  {
   "cell_type": "code",
   "execution_count": null,
   "metadata": {},
   "outputs": [],
   "source": []
  },
  {
   "cell_type": "code",
   "execution_count": 23,
   "metadata": {},
   "outputs": [
    {
     "data": {
      "text/plain": [
       "True"
      ]
     },
     "execution_count": 23,
     "metadata": {},
     "output_type": "execute_result"
    }
   ],
   "source": [
    "def isPalindrome(s):\n",
    "    return s == s[::-1]\n",
    "\n",
    "a=f'{1234321}'\n",
    "isPalindrome(a)"
   ]
  }
 ],
 "metadata": {
  "kernelspec": {
   "display_name": "Python 3.10.4 64-bit",
   "language": "python",
   "name": "python3"
  },
  "language_info": {
   "codemirror_mode": {
    "name": "ipython",
    "version": 3
   },
   "file_extension": ".py",
   "mimetype": "text/x-python",
   "name": "python",
   "nbconvert_exporter": "python",
   "pygments_lexer": "ipython3",
   "version": "3.11.0"
  },
  "orig_nbformat": 4,
  "vscode": {
   "interpreter": {
    "hash": "aee8b7b246df8f9039afb4144a1f6fd8d2ca17a180786b69acc140d282b71a49"
   }
  }
 },
 "nbformat": 4,
 "nbformat_minor": 2
}
