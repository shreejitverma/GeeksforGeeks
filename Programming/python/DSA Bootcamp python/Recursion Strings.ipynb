{
 "cells": [
  {
   "cell_type": "markdown",
   "metadata": {},
   "source": [
    "Permutations"
   ]
  },
  {
   "cell_type": "code",
   "execution_count": 20,
   "metadata": {},
   "outputs": [
    {
     "name": "stdout",
     "output_type": "stream",
     "text": [
      "\n",
      "c\n",
      "b\n",
      "bc\n",
      "a\n",
      "ac\n",
      "ab\n",
      "abc\n"
     ]
    }
   ],
   "source": [
    "def permutations(p, up):\n",
    "    if(len(up) == 0):\n",
    "        print(p)\n",
    "        return\n",
    "    ch = up[0]\n",
    "    \n",
    "    permutations(p, up[1:])\n",
    "    permutations(p+ch, up[1:])\n",
    "\n",
    "permutations('','abc')"
   ]
  },
  {
   "cell_type": "code",
   "execution_count": 21,
   "metadata": {},
   "outputs": [
    {
     "name": "stdout",
     "output_type": "stream",
     "text": [
      "['', 'c', 'b', 'bc', 'a', 'ac', 'ab', 'abc']\n"
     ]
    }
   ],
   "source": [
    "def permutations(p, up,result):\n",
    "    if(len(up) == 0):\n",
    "        result.append(p)\n",
    "        return \n",
    "    ch = up[0]\n",
    "    \n",
    "    permutations(p, up[1:], result)\n",
    "    permutations(p+ch, up[1:], result)\n",
    "    return result\n",
    "result = list()\n",
    "print(permutations('','abc',result))"
   ]
  },
  {
   "cell_type": "code",
   "execution_count": 22,
   "metadata": {},
   "outputs": [
    {
     "name": "stdout",
     "output_type": "stream",
     "text": [
      "['abc', 'ab', 'ac', 'a', 'bc', 'b', 'c', '']\n"
     ]
    }
   ],
   "source": [
    "def permutations(p, up):\n",
    "    if(len(up) == 0):\n",
    "        result = list()\n",
    "        result.append(p)\n",
    "        return result\n",
    "    ch = up[0]\n",
    "\n",
    "    left = permutations(p, up[1:])\n",
    "    right = permutations(p+ch, up[1:])\n",
    "    right.extend(left)\n",
    "    return right\n",
    "\n",
    "\n",
    "print(permutations('', 'abc'))\n",
    "# print('a'+0)\n"
   ]
  },
  {
   "cell_type": "code",
   "execution_count": 23,
   "metadata": {},
   "outputs": [
    {
     "name": "stdout",
     "output_type": "stream",
     "text": [
      "cba\n",
      "bca\n",
      "bac\n",
      "cab\n",
      "acb\n",
      "abc\n",
      "None\n"
     ]
    }
   ],
   "source": [
    "def permutations(p, up):\n",
    "    if (len(up) == 0):\n",
    "        print(p)\n",
    "        return\n",
    "\n",
    "    ch = up[0]\n",
    "    for i in range(0, len(p)+1):\n",
    "        f = p[:i]\n",
    "        s = p[i:]\n",
    "        permutations(f + ch + s, up[1:])\n",
    "\n",
    "\n",
    "print(permutations('', 'abc'))\n"
   ]
  },
  {
   "cell_type": "code",
   "execution_count": 24,
   "metadata": {},
   "outputs": [
    {
     "name": "stdout",
     "output_type": "stream",
     "text": [
      "['cba', 'bca', 'bac', 'cab', 'acb', 'abc']\n"
     ]
    }
   ],
   "source": [
    "def permutationsList(p, up):\n",
    "    if (len(up) == 0):\n",
    "        result = list()\n",
    "        result.append(p)\n",
    "        return result\n",
    "    ch = up[0]\n",
    "\n",
    "    # local to this call\n",
    "    ans = list()\n",
    "\n",
    "    for i in range(0, len(p)+1):\n",
    "        f = p[:i]\n",
    "        s = p[i:]\n",
    "        ans.extend(permutationsList(f + ch + s, up[1:]))\n",
    "    return ans\n",
    "\n",
    "\n",
    "print(permutationsList('', 'abc'))\n"
   ]
  },
  {
   "cell_type": "code",
   "execution_count": 25,
   "metadata": {},
   "outputs": [
    {
     "name": "stdout",
     "output_type": "stream",
     "text": [
      "6\n"
     ]
    }
   ],
   "source": [
    "def permutationsCount(p, up):\n",
    "    if (len(up) == 0):\n",
    "        return 1\n",
    "    count = 0\n",
    "    ch = up[0]\n",
    "    for i in range(0, len(p)+1):\n",
    "        f = p[:i]\n",
    "        s = p[i:]\n",
    "        count = count + permutationsCount(f + ch + s, up[1:])\n",
    "    return count\n",
    "\n",
    "\n",
    "print(permutationsCount('', 'abc'))\n"
   ]
  },
  {
   "cell_type": "markdown",
   "metadata": {},
   "source": [
    "Subset"
   ]
  },
  {
   "cell_type": "code",
   "execution_count": 1,
   "metadata": {},
   "outputs": [
    {
     "name": "stdout",
     "output_type": "stream",
     "text": [
      "[[], [1], [2], [1, 2], [3], [1, 3], [2, 3], [1, 2, 3]]\n"
     ]
    }
   ],
   "source": [
    "def subset(arr):\n",
    "    outer = list()\n",
    "    outer.append(list())\n",
    "    for num in arr:\n",
    "        n = len(outer)\n",
    "        for i in range(0,n):\n",
    "            internal = list(outer[i])\n",
    "            internal.append(num)\n",
    "            outer.append(internal) \n",
    "    return outer\n",
    "arr = [1,2,3]\n",
    "print(subset(arr))\n"
   ]
  },
  {
   "cell_type": "markdown",
   "metadata": {},
   "source": [
    "Subset Duplicates"
   ]
  },
  {
   "cell_type": "code",
   "execution_count": 3,
   "metadata": {},
   "outputs": [
    {
     "name": "stdout",
     "output_type": "stream",
     "text": [
      "[[], [1], [2], [1, 2], [2], [1, 2], [2, 2], [1, 2, 2]]\n"
     ]
    }
   ],
   "source": [
    "def subsetDuplicate(arr):\n",
    "    arr.sort()\n",
    "    outer = list()\n",
    "    outer.append(list())\n",
    "    start=0\n",
    "    end=0\n",
    "    for i in range(0,len(arr)):\n",
    "        start = 0\n",
    "        # if current and previous element is same, s = e + 1\n",
    "        if (i > 0 &  arr[i] == arr[i - 1]):\n",
    "            start = end + 1\n",
    "        end = len(outer) - 1\n",
    "        n = len(outer)\n",
    "        for j in range(start,n):\n",
    "            internal = list(outer[j])\n",
    "            internal.append(arr[i])\n",
    "            outer.append(internal)\n",
    "            \n",
    "    return outer\n",
    "\n",
    "\n",
    "arr = [1, 2, 2]\n",
    "print(subsetDuplicate(arr))\n"
   ]
  },
  {
   "cell_type": "markdown",
   "metadata": {},
   "source": [
    "Dice"
   ]
  },
  {
   "cell_type": "code",
   "execution_count": 31,
   "metadata": {},
   "outputs": [
    {
     "name": "stdout",
     "output_type": "stream",
     "text": [
      "1111\n",
      "112\n",
      "121\n",
      "13\n",
      "211\n",
      "22\n",
      "31\n",
      "4\n"
     ]
    }
   ],
   "source": [
    "def dice( p,  target):\n",
    "    if (target == 0):\n",
    "        print(p)\n",
    "        return\n",
    "    \n",
    "\n",
    "    for i in range(1,7):\n",
    "        if (i<=target):\n",
    "            dice(p + f'{i}', target - i)\n",
    "    \n",
    "dice('',4)\n",
    "\n"
   ]
  },
  {
   "cell_type": "code",
   "execution_count": 35,
   "metadata": {},
   "outputs": [
    {
     "data": {
      "text/plain": [
       "['1111', '112', '121', '13', '211', '22', '31', '4']"
      ]
     },
     "execution_count": 35,
     "metadata": {},
     "output_type": "execute_result"
    }
   ],
   "source": [
    "def diceRet( p,  target):\n",
    "    if (target == 0):\n",
    "       result = list()\n",
    "       result.append(p)\n",
    "       return result\n",
    "    \n",
    "    result = list()\n",
    "    \n",
    "    for i in range(1,7):\n",
    "        if (i<=target):\n",
    "            result.extend(diceRet(p + f'{i}', target - i))\n",
    "    return result \n",
    "\n",
    "diceRet('',4)"
   ]
  },
  {
   "cell_type": "code",
   "execution_count": 37,
   "metadata": {},
   "outputs": [
    {
     "name": "stdout",
     "output_type": "stream",
     "text": [
      "1111\n",
      "112\n",
      "121\n",
      "13\n",
      "211\n",
      "22\n",
      "31\n",
      "4\n"
     ]
    }
   ],
   "source": [
    "def diceFace(p,  target,face):\n",
    "    if (target == 0):\n",
    "        print(p)\n",
    "        return\n",
    "\n",
    "    for i in range(1, face+1):\n",
    "        if (i <= target):\n",
    "            diceFace(p + f'{i}', target - i, face)\n",
    "\n",
    "\n",
    "diceFace('', 4,8)\n"
   ]
  },
  {
   "cell_type": "code",
   "execution_count": 38,
   "metadata": {},
   "outputs": [
    {
     "data": {
      "text/plain": [
       "['1111', '112', '121', '13', '211', '22', '31', '4']"
      ]
     },
     "execution_count": 38,
     "metadata": {},
     "output_type": "execute_result"
    }
   ],
   "source": [
    "def diceFaceRet( p,  target,face):\n",
    "    if (target == 0):\n",
    "       result = list()\n",
    "       result.append(p)\n",
    "       return result\n",
    "    \n",
    "    result = list()\n",
    "    \n",
    "    for i in range(1,face+1):\n",
    "        if (i<=target):\n",
    "            result.extend(diceFaceRet(p + f'{i}', target - i,face))\n",
    "    return result \n",
    "\n",
    "diceFaceRet('',4,8)"
   ]
  },
  {
   "cell_type": "markdown",
   "metadata": {},
   "source": [
    "Num Pad"
   ]
  },
  {
   "cell_type": "code",
   "execution_count": 10,
   "metadata": {},
   "outputs": [
    {
     "name": "stdout",
     "output_type": "stream",
     "text": [
      "ad\n",
      "ae\n",
      "af\n",
      "bd\n",
      "be\n",
      "bf\n",
      "cd\n",
      "ce\n",
      "cf\n"
     ]
    }
   ],
   "source": [
    "def pad( p,  up):\n",
    "    if (len(up)==0):\n",
    "        print(p)\n",
    "        return\n",
    "    \n",
    "    digit = int(up[0])\n",
    "    # this will convert '2' into 2\n",
    "    for i in range((digit - 1) * 3,digit * 3):\n",
    "        ch = (chr)(ord('a') + i)\n",
    "        pad(p + ch, up[1:])\n",
    "    \n",
    "\n",
    "pad('','12')\n",
    "# print(chr(ord('a')+1))\n"
   ]
  },
  {
   "cell_type": "code",
   "execution_count": 18,
   "metadata": {},
   "outputs": [
    {
     "name": "stdout",
     "output_type": "stream",
     "text": [
      "27\n"
     ]
    }
   ],
   "source": [
    "def padRet( p,  up):\n",
    "    if (len(up)==0):\n",
    "        result = list()\n",
    "        result.append(p)\n",
    "        return result\n",
    "    result = list()\n",
    "    digit = int(up[0])\n",
    "    # this will convert '2' into 2\n",
    "    for i in range((digit - 1) * 3,digit * 3):\n",
    "        ch = (chr)(ord('a') + i)\n",
    "        result.extend(padRet(p + ch, up[1:]))\n",
    "    return result\n",
    "\n",
    "ans = padRet('','224')\n",
    "print(len(ans))"
   ]
  },
  {
   "cell_type": "code",
   "execution_count": 19,
   "metadata": {},
   "outputs": [
    {
     "data": {
      "text/plain": [
       "27"
      ]
     },
     "execution_count": 19,
     "metadata": {},
     "output_type": "execute_result"
    }
   ],
   "source": [
    "def padCount( p,  up):\n",
    "    if (len(up) == 0):\n",
    "        return 1\n",
    "    count = 0\n",
    "    digit = int(up[0])\n",
    "    # this will convert '2' into 2\n",
    "    for i in range((digit - 1) * 3, digit * 3):\n",
    "        ch = (chr)(ord('a') + i)\n",
    "        count = count + padCount(p + ch, up[1:])\n",
    "    return count\n",
    "padCount('','224')"
   ]
  }
 ],
 "metadata": {
  "kernelspec": {
   "display_name": "Python 3.10.4 64-bit",
   "language": "python",
   "name": "python3"
  },
  "language_info": {
   "codemirror_mode": {
    "name": "ipython",
    "version": 3
   },
   "file_extension": ".py",
   "mimetype": "text/x-python",
   "name": "python",
   "nbconvert_exporter": "python",
   "pygments_lexer": "ipython3",
   "version": "3.11.0"
  },
  "orig_nbformat": 4,
  "vscode": {
   "interpreter": {
    "hash": "aee8b7b246df8f9039afb4144a1f6fd8d2ca17a180786b69acc140d282b71a49"
   }
  }
 },
 "nbformat": 4,
 "nbformat_minor": 2
}
