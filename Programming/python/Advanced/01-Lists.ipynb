{
 "cells": [
  {
   "cell_type": "markdown",
   "metadata": {},
   "source": [
    "# Lists\n",
    "\n",
    "List is a collection data type which is ordered and mutable. Unlike Sets, Lists allow duplicate elements.\n",
    "They are useful for preserving a sequence of data and further iterating over it. Lists are created with square brackets.\n",
    "\n",
    "`my_list = [\"banana\", \"cherry\", \"apple\"]`\n",
    "\n",
    "#### Comparison of basic built-in collection data types in Python:\n",
    "\n",
    "- List is a collection which is ordered and mutable. Allows duplicate members.\n",
    "- Tuple is a collection which is ordered and immutable. Allows duplicate members.\n",
    "- Set is a collection which is unordered and unindexed. No duplicate members.\n",
    "- Dictionary is a collection which is unordered, mutable and indexed. No duplicate members.\n",
    "- Strings are immutable sequences of Unicode code points."
   ]
  },
  {
   "cell_type": "markdown",
   "metadata": {},
   "source": [
    "#### Creating a list\n",
    "Lists are created with square brackets or the built-in list function."
   ]
  },
  {
   "cell_type": "code",
   "execution_count": 1,
   "metadata": {},
   "outputs": [
    {
     "name": "stdout",
     "output_type": "stream",
     "text": [
      "['banana', 'cherry', 'apple'] <class 'list'>\n",
      "[] <class 'list'>\n",
      "[5, True, 'apple']\n",
      "[0, 0, 1, 1, 1, 1, 1, 1, 1, 1]\n"
     ]
    }
   ],
   "source": [
    "list_1 = [\"banana\", \"cherry\", \"apple\"]\n",
    "print(list_1,type(list_1))\n",
    "\n",
    "# list_1 = [\"banana\", \"apple\"]\n",
    "# print(list_1)\n",
    "\n",
    "# Or create an empty list with the list function\n",
    "list_2 = list()\n",
    "print(list_2,type(list_1))\n",
    "\n",
    "# Lists allow different data types\n",
    "list_3 = [5, True, \"apple\"]\n",
    "print(list_3)\n",
    "\n",
    "# Lists allow duplicates\n",
    "list_4 = [0, 0, 1, 1, 1, 1, 1, 1, 1, 1]\n",
    "print(list_4)"
   ]
  },
  {
   "cell_type": "markdown",
   "metadata": {},
   "source": [
    "#### Access elements\n",
    "You access the list items by referring to the index number. Note that the indices start at 0."
   ]
  },
  {
   "cell_type": "code",
   "execution_count": 12,
   "metadata": {},
   "outputs": [
    {
     "name": "stdout",
     "output_type": "stream",
     "text": [
      "banana\n",
      "cherry\n"
     ]
    }
   ],
   "source": [
    "item = list_1[0]\n",
    "print(item)\n",
    "\n",
    "# You can also use negative indexing, e.g -1 refers to the last item,\n",
    "# -2 to the second last item, and so on\n",
    "item = list_1[-2]\n",
    "print(item)"
   ]
  },
  {
   "cell_type": "markdown",
   "metadata": {},
   "source": [
    "#### Change items\n",
    "Just refer to the index number and assign a new value."
   ]
  },
  {
   "cell_type": "code",
   "execution_count": 13,
   "metadata": {},
   "outputs": [
    {
     "name": "stdout",
     "output_type": "stream",
     "text": [
      "['banana', 'orange', 'apple']\n"
     ]
    }
   ],
   "source": [
    "# Lists can be altered after their creation\n",
    "list_1[1] = \"orange\"\n",
    "print(list_1)"
   ]
  },
  {
   "cell_type": "markdown",
   "metadata": {},
   "source": [
    "#### Useful methods\n",
    "Have a look at the Python Documentation to see all list methods: \n",
    "https://docs.python.org/3/tutorial/datastructures.html "
   ]
  },
  {
   "cell_type": "code",
   "execution_count": 14,
   "metadata": {},
   "outputs": [
    {
     "name": "stdout",
     "output_type": "stream",
     "text": [
      "Length: 3\n",
      "['banana', 'blueberry', 'cherry', 'apple', 'orange']\n",
      "Popped item:  orange\n",
      "['banana', 'blueberry', 'apple']\n",
      "[]\n",
      "Reversed:  ['apple', 'cherry', 'banana']\n",
      "Sorted:  ['apple', 'banana', 'cherry']\n",
      "[0, 0, 0, 0, 0, 0, 0, 0, 0, 0]\n",
      "[0, 0, 0, 0, 0, 0, 0, 0, 0, 0, 'banana', 'cherry', 'apple']\n",
      "type of num: 45.5 <class 'float'>\n",
      "type of float_num: 45 <class 'int'>\n",
      "['A', 'r', 'y', 'a', 'n', ' ', 'R', 'i', 's', 'h', 'i', 'k', 'a']\n",
      "{'y', 'i', 'h', 'k', 'a', 's', 'A', 'n', 'R', 'r', ' '}\n"
     ]
    }
   ],
   "source": [
    "my_list = list()\n",
    "my_list = [\"banana\", \"cherry\", \"apple\"]\n",
    "\n",
    "# len() : get the number of elements in a list\n",
    "print(\"Length:\", len(my_list))\n",
    "\n",
    "# append() : adds an element to the end of the list\n",
    "my_list.append(\"orange\")\n",
    "\n",
    "# insert() : adds an element at the specified position\n",
    "my_list.insert(1, \"blueberry\")\n",
    "print(my_list)\n",
    "\n",
    "# pop() : removes and returns the item at the given position, default is the last item\n",
    "item = my_list.pop()\n",
    "print(\"Popped item: \", item)\n",
    "\n",
    "# remove() : removes an item from the list\n",
    "my_list.remove(\"cherry\") # Value error if not in the list\n",
    "print(my_list)\n",
    "\n",
    "# clear() : removes all items from the list\n",
    "my_list.clear()\n",
    "print(my_list)\n",
    "\n",
    "# reverse() : reverse the items\n",
    "my_list = [\"banana\", \"cherry\", \"apple\"]\n",
    "my_list.reverse()\n",
    "print('Reversed: ', my_list)\n",
    "\n",
    "# sort() : sort items in ascending order\n",
    "my_list.sort()\n",
    "print('Sorted: ', my_list)\n",
    "\n",
    "# use sorted() to get a new list, and leave the original unaffected.\n",
    "# sorted() works on any iterable type, not just lists\n",
    "my_list = [\"banana\", \"cherry\", \"apple\"]\n",
    "new_list = sorted(my_list)\n",
    "\n",
    "# create list with repeated elements\n",
    "list_with_zeros = [0] * 10\n",
    "print(list_with_zeros)\n",
    "\n",
    "# concatenation\n",
    "list_concat = list_with_zeros + my_list\n",
    "print(list_concat)\n",
    "\n",
    "# convert string to list\n",
    "string_to_list = list('Aryan Rishika')\n",
    "#data type conversion\n",
    "num = 45.5\n",
    "float_num = int(num) #-> chote se bada sahi se hota with no loss\n",
    "print(\"type of num:\",num, type(num))\n",
    "print(\"type of float_num:\",float_num, type(float_num))\n",
    "\n",
    "\n",
    "print(string_to_list) # Important \n",
    "print(set(string_to_list))"
   ]
  },
  {
   "cell_type": "markdown",
   "metadata": {},
   "source": [
    "#### Copy a list\n",
    "Be careful when copying references."
   ]
  },
  {
   "cell_type": "code",
   "execution_count": 15,
   "metadata": {},
   "outputs": [
    {
     "name": "stdout",
     "output_type": "stream",
     "text": [
      "['banana', 'cherry', 'apple', True]\n",
      "['banana', 'cherry', 'apple', True]\n",
      "['banana', 'orange', 'apple', True]\n",
      "['banana', 'orange', 'apple']\n"
     ]
    }
   ],
   "source": [
    "list_org = [\"banana\", \"cherry\", \"apple\"]\n",
    "\n",
    "# this just copies the reference to the list, so be careful\n",
    "list_copy = list_org\n",
    "\n",
    "# now modifying the copy also affects the original\n",
    "list_copy.append(True)\n",
    "print(list_copy)\n",
    "print(list_org)\n",
    "\n",
    "# use copy(), or list(x) to actually copy the list\n",
    "# slicing also works: list_copy = list_org[:]\n",
    "list_org = [\"banana\", \"orange\", \"apple\"]\n",
    "\n",
    "list_copy = list_org.copy()\n",
    "# list_copy = list(list_org)\n",
    "# list_copy = list_org[:]\n",
    "\n",
    "# now modifying the copy does not affect the original\n",
    "list_copy.append(True)\n",
    "print(list_copy)\n",
    "print(list_org)"
   ]
  },
  {
   "cell_type": "markdown",
   "metadata": {},
   "source": [
    "#### Iterating"
   ]
  },
  {
   "cell_type": "code",
   "execution_count": 16,
   "metadata": {},
   "outputs": [
    {
     "name": "stdout",
     "output_type": "stream",
     "text": [
      "banana\n",
      "orange\n",
      "apple\n",
      "10\n",
      "9\n",
      "8\n",
      "7\n",
      "6\n",
      "5\n",
      "4\n",
      "3\n",
      "2\n",
      "1\n"
     ]
    }
   ],
   "source": [
    "# Iterating over a list by using a for in loop\n",
    "for i in list_1:\n",
    "    print(i)\n",
    "\n",
    "n =10\n",
    "while(n>0):\n",
    "    print(n)\n",
    "    n = n-1"
   ]
  },
  {
   "cell_type": "markdown",
   "metadata": {},
   "source": [
    "#### Check if an item exists"
   ]
  },
  {
   "cell_type": "code",
   "execution_count": 17,
   "metadata": {},
   "outputs": [
    {
     "name": "stdout",
     "output_type": "stream",
     "text": [
      "no\n"
     ]
    }
   ],
   "source": [
    "if \"karela\" in list_1:\n",
    "    print(\"yes\")\n",
    "elif \"lemon\" in list_1:\n",
    "    print(\"Ran elif block and made lemonade :)\")\n",
    "else:\n",
    "    print(\"no\")"
   ]
  },
  {
   "cell_type": "markdown",
   "metadata": {},
   "source": [
    "#### Slicing\n",
    "Access sub parts of the list wih the use of colon (:), just as with strings."
   ]
  },
  {
   "cell_type": "code",
   "execution_count": 18,
   "metadata": {},
   "outputs": [
    {
     "name": "stdout",
     "output_type": "stream",
     "text": [
      "[2, 3, 4, 5]\n",
      "[3, 4, 5, 6, 7, 8, 9, 10]\n",
      "[1, 2, 3]\n",
      "[0, 4, 5, 6, 7, 8, 9, 10]\n",
      "[0, 5, 7, 9]\n",
      "[10, 8, 6, 4]\n",
      "[10, 8, 6, 4]\n"
     ]
    }
   ],
   "source": [
    "# a[start:stop:step], default step is 1\n",
    "a = [1, 2, 3, 4, 5, 6, 7, 8, 9, 10]\n",
    "b = a[1:5] # Note that the last index is not included\n",
    "print(b)\n",
    "b = a[2:] # until the end\n",
    "print(b)\n",
    "b = a[:3] # from beginning\n",
    "print(b)\n",
    "a[0:3] = [0] # replace sub-parts, you need an iterable here\n",
    "print(a)\n",
    "b = a[::2] # start to end with every second item\n",
    "print(b)\n",
    "a = a[::-2] # reverse the list with a negative step:\n",
    "print(a)\n",
    "b = a[:] # copy a list with slicing\n",
    "print(b)"
   ]
  },
  {
   "cell_type": "markdown",
   "metadata": {},
   "source": [
    "#### List comprehension\n",
    "A elegant and fast way to create a new list from an existing list.\n",
    "\n",
    "List comprehension consists of an expression followed by a for statement inside square brackets."
   ]
  },
  {
   "cell_type": "code",
   "execution_count": 19,
   "metadata": {},
   "outputs": [
    {
     "name": "stdout",
     "output_type": "stream",
     "text": [
      "[1, 4, 9, 16, 25, 36, 49, 64]\n"
     ]
    }
   ],
   "source": [
    "a = [1, 2, 3, 4, 5, 6, 7, 8]\n",
    "b = [i * i for i in a] # squares each element\n",
    "print(b)"
   ]
  },
  {
   "cell_type": "markdown",
   "metadata": {},
   "source": [
    "#### Nested lists\n",
    "Lists can contain other lists (or other container types)."
   ]
  },
  {
   "cell_type": "code",
   "execution_count": 20,
   "metadata": {},
   "outputs": [
    {
     "name": "stdout",
     "output_type": "stream",
     "text": [
      "[[1, 2], [3, 4]]\n",
      "[1, 2]\n"
     ]
    }
   ],
   "source": [
    "a = [[1, 2], [3, 4]]\n",
    "print(a)\n",
    "print(a[0])"
   ]
  },
  {
   "cell_type": "markdown",
   "metadata": {},
   "source": [
    "Enumerate"
   ]
  },
  {
   "cell_type": "code",
   "execution_count": 25,
   "metadata": {},
   "outputs": [
    {
     "name": "stdout",
     "output_type": "stream",
     "text": [
      "The value of item 0 is 1\n",
      "The value of item 1 is 2\n",
      "The value of item 2 is 3\n",
      "The value of item 3 is 4\n",
      "The value of item 4 is 5\n",
      "The value of item 5 is 6\n",
      "The value of item 6 is 7\n",
      "The value of item 7 is 8\n"
     ]
    }
   ],
   "source": [
    "a = [1, 2, 3, 4, 5, 6, 7, 8]\n",
    "for i, value in enumerate(a):\n",
    "    # print(\"The value of item {} is {}\".format(i,value))\n",
    "    print(f\"The value of item {i} is {value}\")\n"
   ]
  },
  {
   "cell_type": "markdown",
   "metadata": {},
   "source": [
    "Zip"
   ]
  },
  {
   "cell_type": "code",
   "execution_count": 2,
   "metadata": {},
   "outputs": [
    {
     "name": "stdout",
     "output_type": "stream",
     "text": [
      "one: 1, two: 9\n",
      "one: 2, two: 8\n",
      "one: 3, two: 7\n",
      "one: 4, two: 6\n",
      "one: 5, two: 5\n",
      "one: 6, two: 4\n",
      "one: 7, two: 3\n",
      "one: 8, two: 2\n"
     ]
    }
   ],
   "source": [
    "l_one = [1, 2, 3, 4, 5, 6, 7, 8]\n",
    "l_two = [9,8,7,6,5,4,3,2]\n",
    "\n",
    "for one, two in zip(l_one,l_two):\n",
    "    # print(\"one: {}, two: {}\".format(one,two))\n",
    "    print(f\"one: {one}, two: {two}\")\n"
   ]
  }
 ],
 "metadata": {
  "interpreter": {
   "hash": "aee8b7b246df8f9039afb4144a1f6fd8d2ca17a180786b69acc140d282b71a49"
  },
  "kernelspec": {
   "display_name": "Python 3",
   "language": "python",
   "name": "python3"
  },
  "language_info": {
   "codemirror_mode": {
    "name": "ipython",
    "version": 3
   },
   "file_extension": ".py",
   "mimetype": "text/x-python",
   "name": "python",
   "nbconvert_exporter": "python",
   "pygments_lexer": "ipython3",
   "version": "3.10.4"
  }
 },
 "nbformat": 4,
 "nbformat_minor": 2
}
