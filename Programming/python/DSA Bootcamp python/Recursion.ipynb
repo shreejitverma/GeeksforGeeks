{
 "cells": [
  {
   "cell_type": "markdown",
   "metadata": {},
   "source": [
    "## Introduction"
   ]
  },
  {
   "cell_type": "code",
   "execution_count": 2,
   "metadata": {},
   "outputs": [
    {
     "name": "stdout",
     "output_type": "stream",
     "text": [
      "5\n"
     ]
    }
   ],
   "source": [
    "#Fibonacci\n",
    "def fibonacci(n):\n",
    "    if(n<2):\n",
    "        return n\n",
    "    return fibonacci(n-1) + fibonacci(n-2)\n",
    "print(fibonacci(5))"
   ]
  },
  {
   "cell_type": "code",
   "execution_count": 10,
   "metadata": {},
   "outputs": [
    {
     "name": "stdout",
     "output_type": "stream",
     "text": [
      "6\n"
     ]
    }
   ],
   "source": [
    "#Binary Search\n",
    "\n",
    "def search(arr, target, s, e):\n",
    "    if(s > e):\n",
    "        return -1\n",
    "    m = int(s + (e - s) / 2)\n",
    "    if (arr[m] == target):\n",
    "        return m\n",
    "    if (target < arr[m]):\n",
    "        return search(arr, target, s, m - 1)\n",
    "    return search(arr, target, m + 1, e)\n",
    "\n",
    "\n",
    "arr = [1, 2, 3, 4, 55, 66, 78]\n",
    "target = 78\n",
    "print(search(arr, target, 0, len(arr) - 1))\n"
   ]
  },
  {
   "cell_type": "code",
   "execution_count": 16,
   "metadata": {},
   "outputs": [
    {
     "name": "stdout",
     "output_type": "stream",
     "text": [
      "10\n",
      "25\n",
      "3628800\n"
     ]
    }
   ],
   "source": [
    "# Digit Sum\n",
    "def sum(n):\n",
    "    if (n == 0):\n",
    "        return 0\n",
    "    return (n % 10) + sum(int(n / 10))\n",
    "\n",
    "\n",
    "ans = sum(1342)\n",
    "print(ans)\n",
    "\n",
    "def prod(n):\n",
    "    if (n % 10 == n):\n",
    "        return n\n",
    "    return (n % 10) * prod(int(n/10))\n",
    "\n",
    "\n",
    "ans = prod(515)\n",
    "print(ans)\n",
    "\n",
    "# Factorial\n",
    "def fact(n):\n",
    "    if (n <= 1):\n",
    "        return 1\n",
    "\n",
    "    return n * fact(n-1)\n",
    "\n",
    "print(fact(10))"
   ]
  },
  {
   "cell_type": "code",
   "execution_count": 19,
   "metadata": {},
   "outputs": [
    {
     "name": "stdout",
     "output_type": "stream",
     "text": [
      "5\n",
      "4\n",
      "3\n",
      "2\n",
      "1\n"
     ]
    }
   ],
   "source": [
    "# N to 1\n",
    "\n",
    "def concept(n):\n",
    "    if (n == 0):\n",
    "        return\n",
    "    \n",
    "    print(n)\n",
    "    # // concept(n--)\n",
    "    n= n-1\n",
    "    concept(n)\n",
    "    # n-- vs - -n\n",
    "\n",
    "\n",
    "def fun(n):\n",
    "    if (n == 0):\n",
    "        return\n",
    "    \n",
    "    print(n)\n",
    "    fun(n-1)\n",
    "\n",
    "\n",
    "def funRev(n):\n",
    "    if (n == 0):\n",
    "        return\n",
    "    \n",
    "    funRev(n-1)\n",
    "    print(n)\n",
    "\n",
    "\n",
    "def funBoth(n):\n",
    "    if (n == 0):\n",
    "        return\n",
    "    print(n)\n",
    "    funBoth(n-1)\n",
    "    print(n)\n",
    "\n",
    "concept(5)\n",
    "# fun(5)\n",
    "# funRev(5)\n",
    "# funBoth(5)"
   ]
  },
  {
   "cell_type": "code",
   "execution_count": 32,
   "metadata": {},
   "outputs": [
    {
     "name": "stdout",
     "output_type": "stream",
     "text": [
      "True\n"
     ]
    }
   ],
   "source": [
    "import math\n",
    "res = 0\n",
    "def rev(n):\n",
    "    # sometimes you might need some additional variables in the argument\n",
    "    # in that case, make another function\n",
    "    digits = int((math.log10(n)) + 1)\n",
    "    return helper(n, digits)\n",
    "\n",
    "def rev1(n):\n",
    "    if (n == 0):\n",
    "        return\n",
    "    \n",
    "    rem = n % 10\n",
    "    res = res * 10 \n",
    "    res += rem\n",
    "    rev1(int(n/10))\n",
    "\n",
    "def helper(n,digits):\n",
    "    if (n % 10 == n):\n",
    "        return n\n",
    "    rem = n % 10\n",
    "    return rem * int((pow(10, digits-1))) + helper(int(n/10), digits-1)\n",
    "\n",
    "def palin(n):\n",
    "    return n == rev(n)\n",
    "\n",
    "print(palin(12321))\n",
    "# print(rev1(123421))\n",
    "\n"
   ]
  },
  {
   "cell_type": "code",
   "execution_count": 37,
   "metadata": {},
   "outputs": [
    {
     "name": "stdout",
     "output_type": "stream",
     "text": [
      "5\n",
      "78\n"
     ]
    }
   ],
   "source": [
    "# Number of Steps\n",
    "def numberOfSteps(num):\n",
    "    return helper(num, 0)\n",
    "\n",
    "def helper(num, steps):\n",
    "    if (num == 0):\n",
    "        return steps\n",
    "\n",
    "    if (num % 2 == 0):\n",
    "        return helper(int(num/2), steps+1)\n",
    "    return helper(num-1, steps+1)\n",
    "\n",
    "print(numberOfSteps(10))\n",
    "\n",
    "# sum\n",
    "def sum(n):\n",
    "    if (n <= 1):\n",
    "        return 1\n",
    "    return n + sum(n-1)\n",
    "print(sum(12))"
   ]
  },
  {
   "cell_type": "code",
   "execution_count": 8,
   "metadata": {},
   "outputs": [
    {
     "name": "stdout",
     "output_type": "stream",
     "text": [
      "bccdh\n"
     ]
    }
   ],
   "source": [
    "#skip a character\n",
    "def skip(p,up):\n",
    "    if(len(up)==0):\n",
    "        print(p)\n",
    "        return\n",
    "    ch = up[0]\n",
    "    if(ch == 'a'):\n",
    "        skip(p,up[1:])\n",
    "    \n",
    "    else:\n",
    "        skip(p+ch, up[1:])\n",
    "    \n",
    "\n",
    "skip('','bccadha')\n",
    "# ab = 'bccadha'\n",
    "# ab[0] == 'b'"
   ]
  },
  {
   "cell_type": "code",
   "execution_count": 10,
   "metadata": {},
   "outputs": [
    {
     "name": "stdout",
     "output_type": "stream",
     "text": [
      "bccdh\n"
     ]
    }
   ],
   "source": [
    "#skip a character\n",
    "def skip(up):\n",
    "    if(len(up)==0):\n",
    "        return ''\n",
    "    ch = up[0]\n",
    "    if(ch == 'a'):\n",
    "        return skip(up[1:])\n",
    "    \n",
    "    else:\n",
    "        return ch +skip(up[1:])\n",
    "    \n",
    "\n",
    "print(skip('bccadha'))"
   ]
  },
  {
   "cell_type": "code",
   "execution_count": null,
   "metadata": {},
   "outputs": [],
   "source": []
  },
  {
   "cell_type": "code",
   "execution_count": 14,
   "metadata": {},
   "outputs": [
    {
     "name": "stdout",
     "output_type": "stream",
     "text": [
      "bclecadha\n"
     ]
    }
   ],
   "source": [
    "#skipApple a word\n",
    "def skipApple(up):\n",
    "    if(len(up) == 0):\n",
    "        return ''\n",
    "    ch = up[0]\n",
    "    if(up.startswith('apple')):\n",
    "        return skipApple(up[5:])\n",
    "\n",
    "    else:\n",
    "        return ch + skipApple(up[1:])\n",
    "\n",
    "\n",
    "# print(skipApple('bcapplecadha'))\n",
    "\n",
    "#skip App a word but not the super word Apple\n",
    "def skipAppNotApple(up):\n",
    "    if(len(up) == 0):\n",
    "        return ''\n",
    "    ch = up[0]\n",
    "    if(up.startswith('apple') & up.startswith('app')):\n",
    "        return skipAppNotApple(up[3:])\n",
    "\n",
    "    else:\n",
    "        return ch + skipAppNotApple(up[1:])\n",
    "\n",
    "\n",
    "print(skipAppNotApple('bcapplecadha'))\n"
   ]
  }
 ],
 "metadata": {
  "kernelspec": {
   "display_name": "Python 3",
   "language": "python",
   "name": "python3"
  },
  "language_info": {
   "codemirror_mode": {
    "name": "ipython",
    "version": 3
   },
   "file_extension": ".py",
   "mimetype": "text/x-python",
   "name": "python",
   "nbconvert_exporter": "python",
   "pygments_lexer": "ipython3",
   "version": "3.10.4"
  },
  "orig_nbformat": 4,
  "vscode": {
   "interpreter": {
    "hash": "aee8b7b246df8f9039afb4144a1f6fd8d2ca17a180786b69acc140d282b71a49"
   }
  }
 },
 "nbformat": 4,
 "nbformat_minor": 2
}
